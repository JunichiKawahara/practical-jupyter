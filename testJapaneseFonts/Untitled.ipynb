{
 "cells": [
  {
   "cell_type": "markdown",
   "metadata": {},
   "source": [
    "# 日本語フォントを利用する\n",
    "## PythonユーザのためのJupyter[実践]入門　第1章"
   ]
  },
  {
   "cell_type": "code",
   "execution_count": 2,
   "metadata": {
    "scrolled": true
   },
   "outputs": [
    {
     "data": {
      "image/png": "[encoded data removed]",
      "text/plain": [
       "<Figure size 432x288 with 1 Axes>"
      ]
     },
     "metadata": {
      "needs_background": "light"
     },
     "output_type": "display_data"
    }
   ],
   "source": [
    "% matplotlib inline\n",
    "\n",
    "import os\n",
    "import numpy as np\n",
    "from matplotlib import pyplot as plt, font_manager\n",
    "\n",
    "# フォントキャッシュを再構築する\n",
    "font_manager._rebuild()\n",
    "\n",
    "if os.name == 'nt':\n",
    "    font_dir = font_manager.win32FontDirectory()\n",
    "else:\n",
    "    font_dir = '/Users/XXXX/Library/Fonts'\n",
    "\n",
    "font_path = os.path.join(font_dir, 'SourceHanCodeJP-Regular.otf')\n",
    "font = font_manager.FontProperties(fname=font_path, size=14)\n",
    "\n",
    "# グラフを描画する\n",
    "np.random.seed(0)\n",
    "x = range(5)\n",
    "\n",
    "y = 10 + 5 * np.random.randn(5)\n",
    "fig = plt.figure()\n",
    "ax = fig.add_subplot(111)\n",
    "\n",
    "# ここでfontproperties を指定する\n",
    "ax.set_title('日本語を指定したタイトル', fontproperties=font)\n",
    "ax.bar(x, y)\n",
    "plt.show()\n"
   ]
  },
  {
   "cell_type": "code",
   "execution_count": null,
   "metadata": {},
   "outputs": [],
   "source": []
  }
 ],
 "metadata": {
  "kernelspec": {
   "display_name": "Python 3",
   "language": "python",
   "name": "python3"
  },
  "language_info": {
   "codemirror_mode": {
    "name": "ipython",
    "version": 3
   },
   "file_extension": ".py",
   "mimetype": "text/x-python",
   "name": "python",
   "nbconvert_exporter": "python",
   "pygments_lexer": "ipython3",
   "version": "3.7.0"
  }
 },
 "nbformat": 4,
 "nbformat_minor": 2
}
